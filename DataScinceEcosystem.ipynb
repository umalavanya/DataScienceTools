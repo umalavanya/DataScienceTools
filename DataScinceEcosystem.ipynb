{
  "metadata": {
    "language_info": {
      "codemirror_mode": {
        "name": "python",
        "version": 3
      },
      "file_extension": ".py",
      "mimetype": "text/x-python",
      "name": "python",
      "nbconvert_exporter": "python",
      "pygments_lexer": "ipython3",
      "version": "3.8"
    },
    "kernelspec": {
      "name": "python",
      "display_name": "Python (Pyodide)",
      "language": "python"
    }
  },
  "nbformat_minor": 4,
  "nbformat": 4,
  "cells": [
    {
      "cell_type": "markdown",
      "source": "# Data Science Tools and Ecosystem",
      "metadata": {}
    },
    {
      "cell_type": "markdown",
      "source": "In this notebook, Data Science Tools and Ecosystem are summarized.",
      "metadata": {}
    },
    {
      "cell_type": "markdown",
      "source": "Some of the popular languages that Data Scientists use are:\n    \n    1. Python\n    2. R language\n    3. Scala\n    4. SQL\n    5. Java\n    6. Julia\n    7. C/C++\n    8. JavaScript\n    ",
      "metadata": {}
    },
    {
      "cell_type": "markdown",
      "source": "Some of the commonly used libraries used by Data Scientists include:\n\n   1. Pandas\n   2. Seaborn\n   3. TensorFlow\n   4. Numpy\n   5. PyTorch\n   6. Caffe\n   7. Plotly\n   8. Folium\n   9. Scikit-Learn\n    \n    ",
      "metadata": {}
    },
    {
      "cell_type": "markdown",
      "source": "|Data Science Tools|\n|------------------|\n|Weka|\n|Java-ML|\n|Apache MLlib|\n|Deeplearning4|\n",
      "metadata": {}
    },
    {
      "cell_type": "markdown",
      "source": "### Below are a few examples of evaluating arithmetic expressions in Python",
      "metadata": {}
    },
    {
      "cell_type": "code",
      "source": "# This is a simple arithmetic expression to multiply then add integers \n(3*4)+5",
      "metadata": {
        "trusted": true
      },
      "execution_count": 2,
      "outputs": [
        {
          "execution_count": 2,
          "output_type": "execute_result",
          "data": {
            "text/plain": "17"
          },
          "metadata": {}
        }
      ]
    },
    {
      "cell_type": "code",
      "source": "# This will convert 200 minutes to hours by dividing 60\n\nminutes = 200\nhours = int(minutes/60)\nprint(f\"{minutes} minutes are equal to {hours} hours\")",
      "metadata": {
        "trusted": true
      },
      "execution_count": 9,
      "outputs": [
        {
          "name": "stdout",
          "text": "200 minutes are equal to 3 hours\n",
          "output_type": "stream"
        }
      ]
    },
    {
      "cell_type": "markdown",
      "source": "**Objectives**\n- List of popular languages used by Data Scientists\n- List of tools used by Data Scientists\n- Data Science Tools\n- Evaluating arithmetic expression\n- working of markdown cell and code cell",
      "metadata": {}
    },
    {
      "cell_type": "markdown",
      "source": "## Author: Umalavanya Chi",
      "metadata": {}
    }
  ]
}